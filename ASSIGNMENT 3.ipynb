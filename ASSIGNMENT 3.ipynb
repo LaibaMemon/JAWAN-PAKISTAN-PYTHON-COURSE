{
 "cells": [
  {
   "cell_type": "code",
   "execution_count": 1,
   "metadata": {},
   "outputs": [
    {
     "name": "stdout",
     "output_type": "stream",
     "text": [
      "Twinkle, twinkle, little star, \n",
      "         How I wonder what you are! \n",
      "                 Up above the world so high, \n",
      "  Like a diamond in the sky. \n",
      " Twinkle, twinkle little star, \n",
      "         How I wonder what you are!\n"
     ]
    }
   ],
   "source": [
    "## 1. Write a Python program to print the following string in a specific format (see the output). \n",
    "#Twinkle, twinkle, little star,\n",
    "    #           How I wonder what you are!\n",
    "    #                   Up above the world so high, \n",
    "    #                   Like a diamond in the sky.\n",
    "\n",
    "    #Twinkle, twinkle, little star,\n",
    "              #How I wonder what you are\n",
    "\n",
    "print(\"Twinkle, twinkle, little star, \\n         How I wonder what you are! \\n                 Up above the world so high, \\n  Like a diamond in the sky. \\n Twinkle, twinkle little star, \\n         How I wonder what you are!\")"
   ]
  },
  {
   "cell_type": "code",
   "execution_count": 2,
   "metadata": {},
   "outputs": [
    {
     "name": "stdout",
     "output_type": "stream",
     "text": [
      "3.8.5\n"
     ]
    }
   ],
   "source": [
    "## 2. Write a Python program to get the Python version you are using\n",
    "\n",
    "from platform import python_version\n",
    "print(python_version());"
   ]
  },
  {
   "cell_type": "code",
   "execution_count": 3,
   "metadata": {},
   "outputs": [
    {
     "name": "stdout",
     "output_type": "stream",
     "text": [
      "Current date and time:2021-25-24 14:25:27\n"
     ]
    }
   ],
   "source": [
    "## 3. Write a Python program to display the current date and time.\n",
    "\n",
    "import datetime\n",
    "now=datetime.datetime.now()\n",
    "print(\"Current date and time:\"+ now.strftime(\"%Y-%M-%d %H:%M:%S\"));"
   ]
  },
  {
   "cell_type": "code",
   "execution_count": 4,
   "metadata": {},
   "outputs": [
    {
     "name": "stdout",
     "output_type": "stream",
     "text": [
      "Raduis of circle:2\n",
      "The Area Of Circle is  2.0 is 12.566370614359172\n"
     ]
    }
   ],
   "source": [
    "## 4. Write a Python program which accepts the radius of a circle from the user and compute the area. \n",
    "\n",
    "from math import pi\n",
    "radius=float(input(\"Raduis of circle:\"))\n",
    "print(\"The Area Of Circle is  \" + str(radius)+\" is \"+str(pi*radius**2));"
   ]
  },
  {
   "cell_type": "code",
   "execution_count": 5,
   "metadata": {},
   "outputs": [
    {
     "name": "stdout",
     "output_type": "stream",
     "text": [
      "Input your First Name : Laiba\n",
      "Input your Last Name : Memon\n",
      "Memon Laiba\n"
     ]
    }
   ],
   "source": [
    "## 5. Write a Python program which accepts the user's first and last name and print them in \n",
    "#reverse order with a space between them.\n",
    "\n",
    "fname = input(\"Input your First Name : \")\n",
    "lname = input(\"Input your Last Name : \")\n",
    "print (lname + \" \" + fname)"
   ]
  },
  {
   "cell_type": "code",
   "execution_count": 6,
   "metadata": {},
   "outputs": [
    {
     "name": "stdout",
     "output_type": "stream",
     "text": [
      "Write the First Number: 2\n",
      "Write the Second Number: 2\n",
      "Addition of two numbers are: \n",
      "4\n"
     ]
    }
   ],
   "source": [
    "## 6. Write a python program which takes two inputs from user and print them addition\n",
    "\n",
    "finp= int(input(\"Write the First Number: \"))\n",
    "Sinp= int(input(\"Write the Second Number: \"))\n",
    "addition=finp+Sinp;\n",
    "print(\"Addition of two numbers are: \")\n",
    "print(addition)"
   ]
  },
  {
   "cell_type": "code",
   "execution_count": null,
   "metadata": {},
   "outputs": [],
   "source": [
    "## 8. Write a program which take input from user and identify that the given number is even or odd?\n",
    "\n",
    "num = int(input(\"Enter a Number:\"))\n",
    "if (num % 2) == 0:\n",
    "   print(\"This is Even Number\")\n",
    "else:\n",
    "   print(\"This is Odd Number\")"
   ]
  },
  {
   "cell_type": "code",
   "execution_count": null,
   "metadata": {},
   "outputs": [],
   "source": [
    "## 9. Write a program which print the length of the list? \n",
    "\n",
    "arr=[\"Laiba\",\"Nabiha\",\"Raffay\",\"Unza\",\"Fajar\",\"Zainab\",\"Emaan\",\"Awais\",\"Humza\",\"Saad\"]\n",
    "print(len(arr));"
   ]
  },
  {
   "cell_type": "code",
   "execution_count": 10,
   "metadata": {},
   "outputs": [
    {
     "name": "stdout",
     "output_type": "stream",
     "text": [
      "31\n"
     ]
    }
   ],
   "source": [
    "## 10.Write a Python program to sum all the numeric items in a list?\n",
    "\n",
    "items=[6,5,8,4,2,6]\n",
    "arr=items[0]+items[1]+items[2]+items[3]+items[4]+items[5]\n",
    "print(arr)"
   ]
  },
  {
   "cell_type": "code",
   "execution_count": 12,
   "metadata": {},
   "outputs": [
    {
     "name": "stdout",
     "output_type": "stream",
     "text": [
      "The Largest element from the above list is: 100\n"
     ]
    }
   ],
   "source": [
    "## 11.Write a Python program to get the largest number from a numeric list.\n",
    "\n",
    "list = [22,4,43,77,100,99]\n",
    "list.sort()\n",
    "print(\"The Largest element from the above list is:\", list[-1])"
   ]
  },
  {
   "cell_type": "code",
   "execution_count": 13,
   "metadata": {},
   "outputs": [
    {
     "name": "stdout",
     "output_type": "stream",
     "text": [
      "1\n",
      "1\n",
      "2\n",
      "3\n"
     ]
    }
   ],
   "source": [
    "## 12. Take a list, say for example this one: \n",
    " \n",
    "# a = [1, 1, 2, 3, 5, 8, 13, 21, 34, 55, 89] \n",
    "# Write a program that prints out all the elements of the list that are less than 5.\n",
    "\n",
    "a = [1, 1, 2, 3, 5, 8, 13, 21, 34, 55, 89]\n",
    "for i in a:\n",
    "    if i < 5:\n",
    "        print(i)"
   ]
  }
 ],
 "metadata": {
  "kernelspec": {
   "display_name": "Python 3",
   "language": "python",
   "name": "python3"
  },
  "language_info": {
   "codemirror_mode": {
    "name": "ipython",
    "version": 3
   },
   "file_extension": ".py",
   "mimetype": "text/x-python",
   "name": "python",
   "nbconvert_exporter": "python",
   "pygments_lexer": "ipython3",
   "version": "3.8.5"
  }
 },
 "nbformat": 4,
 "nbformat_minor": 4
}
