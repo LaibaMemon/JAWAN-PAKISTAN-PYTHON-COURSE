{
 "cells": [
  {
   "cell_type": "code",
   "execution_count": 1,
   "metadata": {},
   "outputs": [
    {
     "name": "stdout",
     "output_type": "stream",
     "text": [
      "********SIMPLE CALCULATOR********* -\n",
      "Add\n",
      "Subtraction\n",
      "Mutiplication\n",
      "Division\n",
      "\n",
      "Enter your first number: 20\n",
      "Enter your second number: 20\n",
      "20 + 20 = \n",
      "40\n",
      "20 - 20 = \n",
      "0\n",
      "20 * 20 = \n",
      "400\n",
      "20 / 20 = \n",
      "1.0\n"
     ]
    }
   ],
   "source": [
    "# Make a calculator using Python with addition , subtraction ,multiplication ,division and power.\n",
    "\n",
    "\n",
    "print(\"********SIMPLE CALCULATOR********* -\\n\" \\\n",
    "      \"Add\\n\" \\\n",
    "      \"Subtraction\\n\" \\\n",
    "      \"Mutiplication\\n\" \\\n",
    "      \"Division\\n\")\n",
    "      \n",
    "num_1 = int(input('Enter your first number: '))\n",
    "num_2 = int(input('Enter your second number: '))\n",
    " \n",
    "# Addition\n",
    "print('{} + {} = '.format(num_1, num_2))\n",
    "print(num_1 + num_2)\n",
    " \n",
    "# Subtraction\n",
    "print('{} - {} = '.format(num_1, num_2))\n",
    "print(num_1 - num_2)\n",
    " \n",
    "# Multiplication\n",
    "print('{} * {} = '.format(num_1, num_2))\n",
    "print(num_1 * num_2)\n",
    " \n",
    "# Division\n",
    "print('{} / {} = '.format(num_1, num_2))\n",
    "print(num_1 / num_2)"
   ]
  },
  {
   "cell_type": "code",
   "execution_count": 2,
   "metadata": {},
   "outputs": [
    {
     "name": "stdout",
     "output_type": "stream",
     "text": [
      "4\n"
     ]
    }
   ],
   "source": [
    "#Write a program to check if there is any numeric value in list using for loop\n",
    "\n",
    "list=[\"aaa\",\"bbb\",\"bbt\",4,\"karachi\"]\n",
    "for x in list:\n",
    "    if type(x)== int:\n",
    "        print(x)\n",
    "    \n"
   ]
  },
  {
   "cell_type": "code",
   "execution_count": 3,
   "metadata": {},
   "outputs": [
    {
     "name": "stdout",
     "output_type": "stream",
     "text": [
      "{0.33, 0.99}\n",
      "{0.33, 0.99, 10.98}\n"
     ]
    }
   ],
   "source": [
    "#Write a Python script to add a key to a dictionary.\n",
    "\n",
    "dic={0.33,0.99}\n",
    "print(dic)\n",
    "dic.update({10.98})\n",
    "print(dic)"
   ]
  },
  {
   "cell_type": "code",
   "execution_count": 4,
   "metadata": {},
   "outputs": [
    {
     "name": "stdout",
     "output_type": "stream",
     "text": [
      "311\n"
     ]
    }
   ],
   "source": [
    "#Write a Python program to sum all the numeric items in a dictionary.\n",
    "\n",
    "dic={'value1':300,'value2':-77,'value3':88}\n",
    "print(sum(dic.values()))\n",
    "     "
   ]
  },
  {
   "cell_type": "code",
   "execution_count": 7,
   "metadata": {},
   "outputs": [
    {
     "name": "stdout",
     "output_type": "stream",
     "text": [
      "[3, 9, 12]\n"
     ]
    }
   ],
   "source": [
    "list = [ 3, 6, 9, 12, 3, 30, 15, 9, 45, 36, 12, 12]\n",
    "dupItems = []\n",
    "uniqItems = {}\n",
    "for x in list:\n",
    "   if x not in uniqItems:\n",
    "      uniqItems[x] = 1\n",
    "   else:\n",
    "      if uniqItems[x] == 1:\n",
    "         dupItems.append(x)\n",
    "      uniqItems[x] += 1\n",
    "print(dupItems)\n",
    "\n"
   ]
  },
  {
   "cell_type": "code",
   "execution_count": 12,
   "metadata": {},
   "outputs": [
    {
     "name": "stdout",
     "output_type": "stream",
     "text": [
      "\n",
      "Original dictionary elements:\n",
      "{'Laiba': 19, 'Nabiha': 22, 'raffay': 21, 'Aiman': 20}\n",
      "True\n",
      "False\n"
     ]
    }
   ],
   "source": [
    "def key_in_dict(d, key):\n",
    "  return (key in d) \n",
    "students = {\n",
    "  'Laiba': 19,\n",
    "  'Nabiha': 22,\n",
    "  'raffay': 21,\n",
    "  'Aiman': 20\n",
    "}\n",
    "print(\"\\nOriginal dictionary elements:\")\n",
    "print(students)\n",
    "print(key_in_dict(students, 'Nabiha'))\n",
    "print(key_in_dict(students, 'Zainab'))"
   ]
  },
  {
   "cell_type": "code",
   "execution_count": null,
   "metadata": {},
   "outputs": [],
   "source": []
  }
 ],
 "metadata": {
  "kernelspec": {
   "display_name": "Python 3",
   "language": "python",
   "name": "python3"
  },
  "language_info": {
   "codemirror_mode": {
    "name": "ipython",
    "version": 3
   },
   "file_extension": ".py",
   "mimetype": "text/x-python",
   "name": "python",
   "nbconvert_exporter": "python",
   "pygments_lexer": "ipython3",
   "version": "3.8.5"
  }
 },
 "nbformat": 4,
 "nbformat_minor": 4
}
